{
 "cells": [
  {
   "cell_type": "markdown",
   "metadata": {},
   "source": [
    "# I. Overview\n",
    "In this problem, we will together predict house prices in a city of Boston in the US with a sample size of 506 values ​​with 13 attributes as follows:\n",
    "```\n",
    "- CRIM per capita crime rate by town\n",
    "- ZN proportion of residential land zoned for lots over 25,000 sq.ft.\n",
    "- INDUS proportion of non-retail business acres per town\n",
    "- CHAS Charles River dummy variable (= 1 if tract bounds river; 0 otherwise)\n",
    "- NOX nitric oxides concentration (parts per 10 million)\n",
    "- RM average number of rooms per dwelling\n",
    "- AGE proportion of owner-occupied units built prior to 1940\n",
    "- DIS weighted distances to five Boston employment centres\n",
    "- RAD index of accessibility to radial highways\n",
    "- TAX full-value property-tax rate per $10,000\n",
    "- PTRATIO pupil-teacher ratio by town\n",
    "- B 1000(Bk - 0.63)ˆ2 where Bk is the proportion of blacks by town\n",
    "- LSTAT % lower status of the population\n",
    "- MEDV Median value of owner-occupied homes in $1000's\n",
    "```\n",
    "With this information, together, we will proceed to build a hypothetical linear regression model based on `numpy` and `tensorflow` to derive house prices based on up to 10 properties."
   ]
  },
  {
   "cell_type": "markdown",
   "metadata": {},
   "source": [
    "# II. Data Collection"
   ]
  },
  {
   "cell_type": "code",
   "execution_count": 3,
   "metadata": {},
   "outputs": [],
   "source": [
    "# Import library\n",
    "import numpy as np\n",
    "import pandas as pd\n",
    "import matplotlib.pyplot as plt\n",
    "%matplotlib inline"
   ]
  },
  {
   "cell_type": "code",
   "execution_count": 4,
   "metadata": {},
   "outputs": [
    {
     "name": "stderr",
     "output_type": "stream",
     "text": [
      "c:\\Users\\Admin\\AppData\\Local\\Programs\\Python\\Python39\\lib\\site-packages\\sklearn\\utils\\deprecation.py:87: FutureWarning: Function load_boston is deprecated; `load_boston` is deprecated in 1.0 and will be removed in 1.2.\n",
      "\n",
      "    The Boston housing prices dataset has an ethical problem. You can refer to\n",
      "    the documentation of this function for further details.\n",
      "\n",
      "    The scikit-learn maintainers therefore strongly discourage the use of this\n",
      "    dataset unless the purpose of the code is to study and educate about\n",
      "    ethical issues in data science and machine learning.\n",
      "\n",
      "    In this special case, you can fetch the dataset from the original\n",
      "    source::\n",
      "\n",
      "        import pandas as pd\n",
      "        import numpy as np\n",
      "\n",
      "        data_url = \"http://lib.stat.cmu.edu/datasets/boston\"\n",
      "        raw_df = pd.read_csv(data_url, sep=\"\\s+\", skiprows=22, header=None)\n",
      "        data = np.hstack([raw_df.values[::2, :], raw_df.values[1::2, :2]])\n",
      "        target = raw_df.values[1::2, 2]\n",
      "\n",
      "    Alternative datasets include the California housing dataset (i.e.\n",
      "    :func:`~sklearn.datasets.fetch_california_housing`) and the Ames housing\n",
      "    dataset. You can load the datasets as follows::\n",
      "\n",
      "        from sklearn.datasets import fetch_california_housing\n",
      "        housing = fetch_california_housing()\n",
      "\n",
      "    for the California housing dataset and::\n",
      "\n",
      "        from sklearn.datasets import fetch_openml\n",
      "        housing = fetch_openml(name=\"house_prices\", as_frame=True)\n",
      "\n",
      "    for the Ames housing dataset.\n",
      "  warnings.warn(msg, category=FutureWarning)\n"
     ]
    }
   ],
   "source": [
    "from sklearn.datasets import load_boston\n",
    "\n",
    "x = load_boston().data\n",
    "y = load_boston().target\n",
    "\n",
    "# Split it into train and test subsets.\n",
    "from sklearn.model_selection import train_test_split\n",
    "train_X, test_X, train_y, test_y = train_test_split(x, y, test_size=0.2, random_state=23)\n"
   ]
  },
  {
   "cell_type": "markdown",
   "metadata": {},
   "source": [
    "For simplicity, the input data consists of only two characteristics:\n",
    "```\n",
    "    - INDUS proportion of non-retail business acres per town\n",
    "    - RM average number of rooms per dwelling\n",
    "```"
   ]
  },
  {
   "cell_type": "code",
   "execution_count": 5,
   "metadata": {},
   "outputs": [],
   "source": [
    "x = load_boston().data[:,[2,5]]\n",
    "y = load_boston().target\n",
    "\n",
    "# Split it into train and test subsets.\n",
    "from sklearn.model_selection import train_test_split\n",
    "\n",
    "train_X, test_X, train_y, test_y = train_test_split(x, y, test_size=0.2, random_state=23)"
   ]
  },
  {
   "cell_type": "markdown",
   "metadata": {},
   "source": [
    "To understand more about the data set, we can do some more illustrations as follows:\n"
   ]
  },
  {
   "cell_type": "code",
   "execution_count": 6,
   "metadata": {},
   "outputs": [
    {
     "data": {
      "text/plain": [
       "Text(0.5, 0, 'Avg Num Rooms')"
      ]
     },
     "execution_count": 6,
     "metadata": {},
     "output_type": "execute_result"
    },
    {
     "data": {
      "image/png": "[encoded data removed]",
      "text/plain": [
       "<Figure size 432x288 with 2 Axes>"
      ]
     },
     "metadata": {
      "needs_background": "light"
     },
     "output_type": "display_data"
    }
   ],
   "source": [
    "fig = plt.figure()\n",
    "fig1 = fig.add_subplot(121)\n",
    "fig2 = fig.add_subplot(122)\n",
    "\n",
    "fig1.scatter(train_X[:, 0], train_y)\n",
    "fig1.set_title(\"Industrialness vs Med House Price\")\n",
    "fig1.set_xlabel(\"Industrialness\")\n",
    "fig1.set_ylabel(\"Med House Price\")\n",
    "\n",
    "fig2.scatter(train_X[:,1], train_y)\n",
    "fig2.set_title(\"Avg Num Rooms vs Med House Price\")\n",
    "fig2.set_xlabel(\"Avg Num Rooms\")\n",
    "#fig2.set_ylabel(\"Med House Price\")"
   ]
  },
  {
   "cell_type": "markdown",
   "metadata": {},
   "source": [
    "Currently, our vector has the following form:"
   ]
  },
  {
   "cell_type": "code",
   "execution_count": 7,
   "metadata": {},
   "outputs": [
    {
     "name": "stdout",
     "output_type": "stream",
     "text": [
      "Size of data X train matrix (404, 2)\n",
      "Size of data Y train array (404,)\n",
      "Size of data X test matrix (102, 2)\n",
      "Size of data Y test array (102,)\n"
     ]
    }
   ],
   "source": [
    "print(\"Size of data X train matrix %s\"  % str(train_X.shape))\n",
    "print(\"Size of data Y train array %s\"  % str(train_y.shape))\n",
    "print(\"Size of data X test matrix %s\"  % str(test_X.shape))\n",
    "print(\"Size of data Y test array %s\"  % str(test_y.shape))"
   ]
  },
  {
   "cell_type": "markdown",
   "metadata": {},
   "source": [
    "# III. Write a cost function\n",
    "$$J(w) = \\frac{1}{m} \\sum_{i=1}^m loss(\\hat{y}^{(i)}, y^{(i)})= \\frac{1}{2m} \\sum_{i=1}^m (\\hat{y}^{(i)}-y^{(i)})^2 $$\n",
    "Expanding, we have the result:\n",
    "$$J(w) = \\frac{1}{2m} \\sum_{i=1}^m (w_1 x_1^{(i)} + w_2 x_2^{(i)} + b - y^{(i)})^2 $$"
   ]
  },
  {
   "cell_type": "markdown",
   "metadata": {},
   "source": [
    "### III.1 Write a program"
   ]
  },
  {
   "cell_type": "code",
   "execution_count": 8,
   "metadata": {},
   "outputs": [],
   "source": [
    "def np_cost(w, b, X, y):\n",
    "    '''\n",
    "    Evaluate the cost function in a non-vectorized manner for \n",
    "    inputs `X` and targets `y`, at weights `w` and `b`.\n",
    "    \n",
    "    X: 2D array dataset that has (m, n) dimension. \n",
    "    y: list of targets that has (n, ) dimension.\n",
    "    w: list of weights that has (n, ) dimension\n",
    "    b: a scalar bias.\n",
    "    \n",
    "    Return a scalar cost value of `w`, `b`.\n",
    "    '''\n",
    "    \n",
    "    cost = 0\n",
    "    m = X.shape[0]\n",
    "    for i in range(m):\n",
    "        \n",
    "        # TODO: complete below expression to calculate cost function\n",
    "        y_hat = w[0]*X[i, 0] + w[1]*X[i, 1] + b # hypothesis\n",
    "        cost += (y_hat - y[i])**2 # sum cost of each data point.\n",
    "        \n",
    "    return cost/(2*m)"
   ]
  },
  {
   "cell_type": "markdown",
   "metadata": {},
   "source": [
    "### III.2 Try this"
   ]
  },
  {
   "cell_type": "code",
   "execution_count": 9,
   "metadata": {},
   "outputs": [
    {
     "data": {
      "text/plain": [
       "2198.1440481435648"
      ]
     },
     "execution_count": 9,
     "metadata": {},
     "output_type": "execute_result"
    }
   ],
   "source": [
    "np_cost([3, 5], 20, train_X, train_y)"
   ]
  },
  {
   "cell_type": "code",
   "execution_count": 10,
   "metadata": {},
   "outputs": [
    {
     "data": {
      "text/plain": [
       "1163.1688006188117"
      ]
     },
     "execution_count": 10,
     "metadata": {},
     "output_type": "execute_result"
    }
   ],
   "source": [
    "np_cost([3, 5], 0, train_X, train_y)"
   ]
  },
  {
   "cell_type": "markdown",
   "metadata": {},
   "source": [
    "# IV. Vectorize the cost function\n",
    "Alternatively, we can also rewrite the above formula as follows:\n",
    "$$J(w) = \\frac{1}{2m} \\| X w + b  - y \\| ^2$$ "
   ]
  },
  {
   "cell_type": "markdown",
   "metadata": {},
   "source": [
    "### IV.1 Write a program"
   ]
  },
  {
   "cell_type": "code",
   "execution_count": 11,
   "metadata": {},
   "outputs": [],
   "source": [
    "def np_cost_vectorized(w, b, X, y):\n",
    "    '''\n",
    "    Evaluate the cost function in a vectorized manner for \n",
    "    inputs `X` and targets `t`, at weights `w` and `b`.\n",
    "    \n",
    "    X: dataset matrix has (m, n) dimension. \n",
    "    y: targets vector has (n, ) dimension.\n",
    "    w: weights vector has (n, ) dimension\n",
    "    b: a scalar bias.\n",
    "    \n",
    "    Return a scalar cost value of `w`, `b`.\n",
    "    '''\n",
    "    \n",
    "    #TODO: Complete the following expression\n",
    "    m = X.shape[0] # number of samples in dataset\n",
    "    w = np.array(w) # convert to numpy array\n",
    "    y_hat = np.dot(X, w) + b # hypothesis\n",
    "    \n",
    "    return np.sum((y_hat - y)**2)/(2*m)"
   ]
  },
  {
   "cell_type": "markdown",
   "metadata": {},
   "source": [
    "### IV.2 Try this"
   ]
  },
  {
   "cell_type": "code",
   "execution_count": 12,
   "metadata": {},
   "outputs": [
    {
     "data": {
      "text/plain": [
       "2198.1440481435643"
      ]
     },
     "execution_count": 12,
     "metadata": {},
     "output_type": "execute_result"
    }
   ],
   "source": [
    "np_cost_vectorized([3, 5], 20, train_X, train_y)"
   ]
  },
  {
   "cell_type": "code",
   "execution_count": 13,
   "metadata": {},
   "outputs": [
    {
     "data": {
      "text/plain": [
       "1163.168800618812"
      ]
     },
     "execution_count": 13,
     "metadata": {},
     "output_type": "execute_result"
    }
   ],
   "source": [
    "np_cost_vectorized([3, 5], 0, train_X, train_y) "
   ]
  },
  {
   "cell_type": "markdown",
   "metadata": {},
   "source": [
    "# IV. Calculate gradient vector of w\n",
    "With $i = 1...m $ and $j = 1...n$:\n",
    "\n",
    "$$ \\frac{\\partial J}{\\partial w_j} = \\frac{1}{m}\\sum_{i=1}^m x_j^{(i)}(\\hat{y}^{(i)}-y^{(i)}) $$\n",
    "\n",
    "\n",
    "\n",
    "### IV.1 Write a program with `for`"
   ]
  },
  {
   "cell_type": "code",
   "execution_count": 14,
   "metadata": {},
   "outputs": [],
   "source": [
    "def np_grad_fn(w, X, y):\n",
    "    '''\n",
    "    Given `w` - a current \"Guess\" of what our weights should be\n",
    "          `X` - matrix of shape (m, n + 1) of input features\n",
    "          `y` - target y values\n",
    "    Return gradient of each weight evaluated at the current value\n",
    "    '''\n",
    "    \n",
    "    #TODO: Complete the below followed the above expressions\n",
    "    grad_w = np.zeros(np.array(w).shape)\n",
    "    m = X.shape[0]\n",
    "    y_hat = np.dot(X, w)\n",
    "    for j in range(grad_w.shape[0]):\n",
    "        for i in range(m):\n",
    "            grad_w[j] += (y_hat[i] - y[i])*X[i, j]/m\n",
    "    return grad_w"
   ]
  },
  {
   "cell_type": "markdown",
   "metadata": {},
   "source": [
    "### IV.2 Try this"
   ]
  },
  {
   "cell_type": "code",
   "execution_count": 15,
   "metadata": {},
   "outputs": [
    {
     "data": {
      "text/plain": [
       "array([ -18.38506287, -164.09045684, -119.80176642])"
      ]
     },
     "execution_count": 15,
     "metadata": {},
     "output_type": "execute_result"
    }
   ],
   "source": [
    "w = [0.1, 0.2, 0.3]\n",
    "\n",
    "one_column = np.ones((train_X.shape[0], 1))\n",
    "one_column.shape\n",
    "train_X_new = np.append(one_column, train_X, axis = 1) # Add bias\n",
    "\n",
    "np_grad_fn(w, train_X_new, train_y)"
   ]
  },
  {
   "cell_type": "markdown",
   "metadata": {},
   "source": [
    "# IV. Write a program in vectorized form\n",
    "$$\\nabla J(w) = \\frac{1}{m} X^T \\left(Xw - y \\right)$$ "
   ]
  },
  {
   "cell_type": "code",
   "execution_count": 16,
   "metadata": {},
   "outputs": [],
   "source": [
    "def np_grad_fn_vectorized(w, X, y):\n",
    "    '''\n",
    "    Given `w` - a current \"Guess\" of what our weights should be\n",
    "          `X` - matrix of shape (m, n + 1) of input features\n",
    "          `y` - target y values\n",
    "    Return gradient of each weight evaluated at the current value\n",
    "    '''\n",
    "    \n",
    "    #TODO: Complete the below followed the above expressions\n",
    "    m, n = X.shape\n",
    "    y_hat = np.dot(X, w)\n",
    "    grad_w = np.dot(X.T, y_hat - y)/m\n",
    "    \n",
    "    return grad_w"
   ]
  },
  {
   "cell_type": "code",
   "execution_count": 17,
   "metadata": {},
   "outputs": [
    {
     "data": {
      "text/plain": [
       "array([ -18.38506287, -164.09045684, -119.80176642])"
      ]
     },
     "execution_count": 17,
     "metadata": {},
     "output_type": "execute_result"
    }
   ],
   "source": [
    "w = [0.1, 0.2, 0.3]\n",
    "np_grad_fn_vectorized(w, train_X_new, train_y)"
   ]
  },
  {
   "cell_type": "markdown",
   "metadata": {},
   "source": [
    "# V. Calculate based on Gradient Descent\n",
    "Approximately $w$:\n",
    "$$ w_j = w_j - \\alpha * \\frac{\\partial J}{\\partial w_j}$$\n",
    "### V.1. Programming\n"
   ]
  },
  {
   "cell_type": "code",
   "execution_count": 18,
   "metadata": {},
   "outputs": [],
   "source": [
    "def np_solve_via_gradient_descent(X, y, print_every=5000,\n",
    "                                  niter=100000, alpha=0.005):\n",
    "    '''\n",
    "    Given `X` - matrix of shape (m, n+1) of input features\n",
    "          `y` - target y values\n",
    "    Solves for linear regression weights.\n",
    "    Return weights after `niter` iterations.\n",
    "    '''\n",
    "    m, n = X.shape\n",
    "    # initialize all the weights to zeros\n",
    "    w = np.zeros((n,))\n",
    "    for k in range(niter):\n",
    "        \n",
    "        #TODO: Complete the below followed the above expressions\n",
    "        dw = np_grad_fn_vectorized(w, X, y) \n",
    "        w = w - alpha*dw\n",
    "        \n",
    "        if k % print_every == 0:\n",
    "            print('Weight after %d iteration: %s' % (k, str(w)))\n",
    "    return w"
   ]
  },
  {
   "cell_type": "code",
   "execution_count": 19,
   "metadata": {},
   "outputs": [
    {
     "name": "stdout",
     "output_type": "stream",
     "text": [
      "Weight after 0 iteration: [0.11281807 1.09293824 0.72877707]\n",
      "Weight after 5000 iteration: [-3.83979931 -0.47115104  5.06405134]\n",
      "Weight after 10000 iteration: [-7.47731484 -0.44210677  5.58864258]\n",
      "Weight after 15000 iteration: [-10.43602844  -0.41848249   6.0153391 ]\n",
      "Weight after 20000 iteration: [-12.84261229  -0.39926677   6.36240918]\n",
      "Weight after 25000 iteration: [-14.80010011  -0.38363693   6.64471202]\n",
      "Weight after 30000 iteration: [-16.39229835  -0.37092379   6.87433393]\n",
      "Weight after 35000 iteration: [-17.68737422  -0.36058307   7.06110576]\n",
      "Weight after 40000 iteration: [-18.74077414  -0.35217204   7.21302384]\n",
      "Weight after 45000 iteration: [-19.59759761  -0.34533061   7.33659227]\n",
      "Weight after 50000 iteration: [-20.29452804  -0.33976587   7.43710143]\n",
      "Weight after 55000 iteration: [-20.86140328  -0.33523957   7.51885442]\n",
      "Weight after 60000 iteration: [-21.32249314  -0.33155793   7.58535137]\n",
      "Weight after 65000 iteration: [-21.69753836  -0.32856333   7.63943924]\n",
      "Weight after 70000 iteration: [-22.00259586  -0.32612755   7.68343368]\n",
      "Weight after 75000 iteration: [-22.25072615  -0.32414632   7.71921827]\n",
      "Weight after 80000 iteration: [-22.45255249  -0.32253481   7.74832504]\n",
      "Weight after 85000 iteration: [-22.61671574  -0.32122402   7.77200015]\n",
      "Weight after 90000 iteration: [-22.75024424  -0.32015784   7.79125722]\n",
      "Weight after 95000 iteration: [-22.8588548   -0.31929063   7.8069207 ]\n",
      "Weight after 100000 iteration: [-22.9471974   -0.31858524   7.8196612 ]\n",
      "Weight after 105000 iteration: [-23.01905425  -0.31801149   7.83002417]\n",
      "Weight after 110000 iteration: [-23.0775018   -0.31754481   7.83845329]\n",
      "Weight after 115000 iteration: [-23.12504236  -0.31716521   7.84530945]\n",
      "Weight after 120000 iteration: [-23.16371132  -0.31685646   7.85088616]\n",
      "Weight after 125000 iteration: [-23.1951642   -0.31660532   7.8554222 ]\n",
      "Weight after 130000 iteration: [-23.22074762  -0.31640104   7.85911176]\n",
      "Weight after 135000 iteration: [-23.24155688  -0.31623489   7.86211281]\n",
      "Weight after 140000 iteration: [-23.25848289  -0.31609974   7.86455383]\n",
      "Weight after 145000 iteration: [-23.27225032  -0.31598981   7.86653932]\n",
      "Weight after 150000 iteration: [-23.28344859  -0.3159004    7.8681543 ]\n",
      "Weight after 155000 iteration: [-23.29255713  -0.31582767   7.86946791]\n",
      "Weight after 160000 iteration: [-23.29996591  -0.31576851   7.87053638]\n",
      "Weight after 165000 iteration: [-23.30599214  -0.31572039   7.87140546]\n",
      "Weight after 170000 iteration: [-23.3108938   -0.31568126   7.87211237]\n",
      "Weight after 175000 iteration: [-23.31488075  -0.31564942   7.87268735]\n",
      "Weight after 180000 iteration: [-23.31812369  -0.31562353   7.87315504]\n",
      "Weight after 185000 iteration: [-23.32076146  -0.31560247   7.87353545]\n",
      "Weight after 190000 iteration: [-23.322907    -0.31558533   7.87384487]\n",
      "Weight after 195000 iteration: [-23.32465215  -0.3155714    7.87409655]\n",
      "Weight after 200000 iteration: [-23.32607164  -0.31556007   7.87430127]\n",
      "Weight after 205000 iteration: [-23.32722623  -0.31555085   7.87446778]\n",
      "Weight after 210000 iteration: [-23.32816537  -0.31554335   7.87460322]\n",
      "Weight after 215000 iteration: [-23.32892925  -0.31553725   7.87471338]\n",
      "Weight after 220000 iteration: [-23.32955058  -0.31553229   7.87480299]\n",
      "Weight after 225000 iteration: [-23.33005597  -0.31552825   7.87487588]\n",
      "Weight after 230000 iteration: [-23.33046704  -0.31552497   7.87493516]\n",
      "Weight after 235000 iteration: [-23.3308014   -0.3155223    7.87498338]\n",
      "Weight after 240000 iteration: [-23.33107337  -0.31552013   7.8750226 ]\n",
      "Weight after 245000 iteration: [-23.33129458  -0.31551836   7.87505451]\n",
      "Weight after 250000 iteration: [-23.33147452  -0.31551693   7.87508045]\n",
      "Weight after 255000 iteration: [-23.33162087  -0.31551576   7.87510156]\n",
      "Weight after 260000 iteration: [-23.33173992  -0.31551481   7.87511873]\n",
      "Weight after 265000 iteration: [-23.33183675  -0.31551403   7.87513269]\n",
      "Weight after 270000 iteration: [-23.33191551  -0.3155134    7.87514405]\n",
      "Weight after 275000 iteration: [-23.33197957  -0.31551289   7.87515329]\n",
      "Weight after 280000 iteration: [-23.33203168  -0.31551248   7.87516081]\n",
      "Weight after 285000 iteration: [-23.33207406  -0.31551214   7.87516692]\n",
      "Weight after 290000 iteration: [-23.33210853  -0.31551186   7.87517189]\n",
      "Weight after 295000 iteration: [-23.33213658  -0.31551164   7.87517593]\n"
     ]
    }
   ],
   "source": [
    "opt_w = np_solve_via_gradient_descent(train_X_new, train_y, niter=300000)"
   ]
  },
  {
   "cell_type": "code",
   "execution_count": 23,
   "metadata": {},
   "outputs": [
    {
     "name": "stdout",
     "output_type": "stream",
     "text": [
      "Training cost: 49078.38261997428\n"
     ]
    }
   ],
   "source": [
    "print(\"Training cost:\", np_cost_vectorized(opt_w[:2], opt_w[2], train_X, train_y))"
   ]
  },
  {
   "cell_type": "code",
   "execution_count": 21,
   "metadata": {},
   "outputs": [
    {
     "name": "stdout",
     "output_type": "stream",
     "text": [
      "Testing cost: 55270.47888865493\n"
     ]
    }
   ],
   "source": [
    "print(\"Testing cost:\", np_cost_vectorized(opt_w[:2], opt_w[2], test_X, test_y))"
   ]
  },
  {
   "cell_type": "code",
   "execution_count": null,
   "metadata": {},
   "outputs": [],
   "source": []
  }
 ],
 "metadata": {
  "kernelspec": {
   "display_name": "Python 3.9.8 64-bit",
   "language": "python",
   "name": "python3"
  },
  "language_info": {
   "codemirror_mode": {
    "name": "ipython",
    "version": 3
   },
   "file_extension": ".py",
   "mimetype": "text/x-python",
   "name": "python",
   "nbconvert_exporter": "python",
   "pygments_lexer": "ipython3",
   "version": "3.9.8"
  },
  "orig_nbformat": 4,
  "vscode": {
   "interpreter": {
    "hash": "0d591c6e422414675974e227c13f5382000c440fedd3c5006ef2be5d887f0ba7"
   }
  }
 },
 "nbformat": 4,
 "nbformat_minor": 2
}
